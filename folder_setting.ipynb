{
 "cells": [
  {
   "cell_type": "code",
   "execution_count": 12,
   "id": "81dd374c-c4ec-42a2-9fe3-bcc99f535edc",
   "metadata": {},
   "outputs": [],
   "source": [
    "import os\n",
    "import shutil\n",
    "\n",
    "from tqdm import tqdm"
   ]
  },
  {
   "cell_type": "code",
   "execution_count": 13,
   "id": "3e2f2123-26ea-4e36-9bb1-dc54e0c304bb",
   "metadata": {},
   "outputs": [],
   "source": [
    "data_dir = \"your input data diractory path\"\n",
    "sub_ls = # set subject number list e.g.) os.listdir(\"origin data diractory path\")"
   ]
  },
  {
   "cell_type": "markdown",
   "id": "6fabe9e7-84be-4f73-a8a5-d1f764bb9d7e",
   "metadata": {},
   "source": [
    "## folder"
   ]
  },
  {
   "cell_type": "code",
   "execution_count": 14,
   "id": "880faf2f-579b-45dc-9856-0aadbc5dd928",
   "metadata": {},
   "outputs": [
    {
     "name": "stderr",
     "output_type": "stream",
     "text": [
      "100%|██████████████████████████████████████████████████████████████████████████████████████████████████████████████████████████████████████████████████████████████████████████████████████████████| 1/1 [00:00<00:00, 744.99it/s]\n"
     ]
    }
   ],
   "source": [
    "for idx, sub in enumerate(tqdm(sub_ls)):\n",
    "    os.makedirs(data_dir + \"/{}/T1w/{}/anat/surfaces/micro_profiles\".format(sub, sub))\n",
    "    os.makedirs(data_dir + \"/{}/T1w/{}/label\".format(sub, sub))\n",
    "    os.makedirs(data_dir + \"/{}/T1w/{}/mri/orig\".format(sub, sub))\n",
    "    os.makedirs(data_dir + \"/{}/T1w/{}/surf\".format(sub, sub))"
   ]
  },
  {
   "cell_type": "markdown",
   "id": "addbb896-1722-465a-93eb-6b6c9f0ba2d7",
   "metadata": {},
   "source": [
    "## T1w files"
   ]
  },
  {
   "cell_type": "code",
   "execution_count": 15,
   "id": "ade13067-605c-4791-b8ef-24604456a59d",
   "metadata": {},
   "outputs": [
    {
     "name": "stderr",
     "output_type": "stream",
     "text": [
      "100%|███████████████████████████████████████████████████████████████████████████████████████████████████████████████████████████████████████████████████████████████████████████████████████████████| 1/1 [00:00<00:00,  1.67it/s]\n"
     ]
    }
   ],
   "source": [
    "for idx, sub in enumerate(tqdm(sub_ls)):\n",
    "    shutil.copy(\"Your T1w NFITI file path\", data_dir + \"/{}/T1w/T1w.nii.gz\".format(sub))    "
   ]
  },
  {
   "cell_type": "markdown",
   "id": "8a967f4e-ecda-46b5-be57-0a01984cf6e9",
   "metadata": {},
   "source": [
    "## label + mri + surf"
   ]
  },
  {
   "cell_type": "code",
   "execution_count": 16,
   "id": "a8d486a5-1f20-4d31-a956-758db4130718",
   "metadata": {},
   "outputs": [
    {
     "name": "stderr",
     "output_type": "stream",
     "text": [
      "100%|███████████████████████████████████████████████████████████████████████████████████████████████████████████████████████████████████████████████████████████████████████████████████████████████| 1/1 [00:00<00:00,  6.10it/s]\n"
     ]
    }
   ],
   "source": [
    "for idx, sub in enumerate(tqdm(sub_ls)):\n",
    "    shutil.copy(\"Your lh.cortex.label file path\", data_dir + \"/{}/T1w/{}/label/lh.cortex.label\".format(sub, sub))    \n",
    "    shutil.copy(\"Your rh.cortex.label file path\", data_dir + \"/{}/T1w/{}/label/rh.cortex.label\".format(sub, sub))  \n",
    "    \n",
    "    shutil.copy(\"Your orig.mgz file path\", data_dir + \"/{}/T1w/{}/mri/orig.mgz\".format(sub, sub))    \n",
    "    shutil.copy(\"Your 001.mgz file path\", data_dir + \"/{}/T1w/{}/mri/orig/001.mgz\".format(sub, sub))\n",
    "\n",
    "    shutil.copy(\"Your lh.area file path\", data_dir + \"/{}/T1w/{}/surf/lh.area\".format(sub, sub))\n",
    "    shutil.copy(\"Your lh.area.pial file path\", data_dir + \"/{}/T1w/{}/surf/lh.area.pial\".format(sub, sub))\n",
    "    shutil.copy(\"Your lh.pial file path\", data_dir + \"/{}/T1w/{}/surf/lh.pial\".format(sub, sub))\n",
    "    shutil.copy(\"Your lh.sphere.reg file path\", data_dir + \"/{}/T1w/{}/surf/lh.sphere.reg\".format(sub, sub))\n",
    "    shutil.copy(\"Your lh.thickness file path\", data_dir + \"/{}/T1w/{}/surf/lh.thickness\".format(sub, sub))\n",
    "    shutil.copy(\"Your lh.white file path\", data_dir + \"/{}/T1w/{}/surf/lh.white\".format(sub, sub))\n",
    "    \n",
    "    shutil.copy(\"Your rh.area file path\", data_dir + \"/{}/T1w/{}/surf/rh.area\".format(sub, sub))\n",
    "    shutil.copy(\"Your rh.area.pial file path\", data_dir + \"/{}/T1w/{}/surf/rh.area.pial\".format(sub, sub))\n",
    "    shutil.copy(\"Your rh.pial file path\", data_dir + \"/{}/T1w/{}/surf/rh.pial\".format(sub, sub))\n",
    "    shutil.copy(\"Your rh.sphere.reg file path\", data_dir + \"/{}/T1w/{}/surf/rh.sphere.reg\".format(sub, sub))\n",
    "    shutil.copy(\"Your rh.thickness file path\", data_dir + \"/{}/T1w/{}/surf/rh.thickness\".format(sub, sub))\n",
    "    shutil.copy(\"Your rh.white file path\", data_dir + \"/{}/T1w/{}/surf/rh.white\".format(sub, sub))"
   ]
  },
  {
   "cell_type": "code",
   "execution_count": null,
   "id": "4e7f7cc5-2286-4fb2-9cbb-d10fec4c89ef",
   "metadata": {},
   "outputs": [],
   "source": []
  }
 ],
 "metadata": {
  "kernelspec": {
   "display_name": "torch",
   "language": "python",
   "name": "yjpark"
  },
  "language_info": {
   "codemirror_mode": {
    "name": "ipython",
    "version": 3
   },
   "file_extension": ".py",
   "mimetype": "text/x-python",
   "name": "python",
   "nbconvert_exporter": "python",
   "pygments_lexer": "ipython3",
   "version": "3.9.12"
  }
 },
 "nbformat": 4,
 "nbformat_minor": 5
}
